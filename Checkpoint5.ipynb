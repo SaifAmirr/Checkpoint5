{
 "cells": [
  {
   "cell_type": "code",
   "execution_count": 4,
   "id": "137c72a4",
   "metadata": {},
   "outputs": [
    {
     "name": "stdout",
     "output_type": "stream",
     "text": [
      "Blu is a Bird\n",
      "Blu is 10 years old\n"
     ]
    }
   ],
   "source": [
    "class Parrot: #Test\n",
    "    species = \"Bird\"\n",
    "    def __init__(self, name, age):\n",
    "        self.name = name\n",
    "        self.age = age\n",
    "        \n",
    "Blu = Parrot(\"Blu\", \"10\")\n",
    "woo = Parrot(\"Saif\", \"14\")\n",
    "print(\"Blu is a {}\".format(Blu.__class__.species))\n",
    "print(\"{} is {} years old\".format( Blu.name, Blu.age))"
   ]
  },
  {
   "cell_type": "code",
   "execution_count": 17,
   "id": "beb83370",
   "metadata": {},
   "outputs": [
    {
     "name": "stdout",
     "output_type": "stream",
     "text": [
      "Your points are (4, 6, 8)\n"
     ]
    }
   ],
   "source": [
    "#Question 1 \n",
    "class point3D:\n",
    "    def __init__(self, x, y, z):\n",
    "        self.x=x\n",
    "        self.y=y\n",
    "        self.z=z\n",
    "    def points(self):\n",
    "        return ((self.x, self.y ,self.z))\n",
    "    \n",
    "    \n",
    "my_point = point3D(4,6,8)  \n",
    "\n",
    "print(\"Your points are {}\".format(my_point.points()))\n",
    "            \n",
    "            \n",
    "    "
   ]
  },
  {
   "cell_type": "code",
   "execution_count": 22,
   "id": "971983fd",
   "metadata": {},
   "outputs": [
    {
     "name": "stdout",
     "output_type": "stream",
     "text": [
      "The area is 12\n",
      "The perimeter is 14\n"
     ]
    }
   ],
   "source": [
    "#Question 2 \n",
    "class Rectangle:\n",
    "    def __init__(self, length, width):\n",
    "        self.length = length\n",
    "        self.width = width\n",
    "    def area(self):\n",
    "        return(self.length*self.width)\n",
    "    def perimeter(self):\n",
    "        return((self.length+self.width)*2)\n",
    "                 \n",
    "my_rectangle = Rectangle(3, 4)\n",
    "print(\"The area is {}\".format(my_rectangle.area()))\n",
    "print(\"The perimeter is {}\".format(my_rectangle.perimeter()))"
   ]
  },
  {
   "cell_type": "code",
   "execution_count": 35,
   "id": "2da5125a",
   "metadata": {},
   "outputs": [
    {
     "name": "stdout",
     "output_type": "stream",
     "text": [
      "The point is inside the circle\n",
      "The area is 254.34\n",
      "The perimeter is 56.52\n"
     ]
    }
   ],
   "source": [
    "import math #Question 3\n",
    "class Circle:\n",
    "    def __init__(self, O, r, a, b):\n",
    "        self.O = O\n",
    "        self.r = r\n",
    "        self.a = a\n",
    "        self.b = b\n",
    "    def area(self):\n",
    "        return(((self.r)**2)*3.14)\n",
    "    def perimeter(self):\n",
    "        return((self.r)*2*3.14)  \n",
    "    def isInside(self):\n",
    "        distance = math.sqrt((self.a-self.O[0])**2 + (self.b-self.O[1])**2)\n",
    "        if distance <= self.r:\n",
    "            print(\"The point is inside the circle\")\n",
    "        else:\n",
    "            print(\"The point is outside the circle\")\n",
    "            \n",
    "A = Circle((4,2), 9, 3, 4)\n",
    "A.isInside()\n",
    "print(\"The area is {}\".format(A.area()))\n",
    "print(\"The perimeter is {}\".format(A.perimeter()))\n",
    "\n",
    "\n",
    "      \n",
    "        \n",
    "        \n",
    "        \n",
    "        \n",
    "\n",
    "        "
   ]
  },
  {
   "cell_type": "code",
   "execution_count": 40,
   "id": "5d062db2",
   "metadata": {},
   "outputs": [
    {
     "name": "stdout",
     "output_type": "stream",
     "text": [
      "2000 withdrawn, Your current balance is 2000\n",
      "1000 deposited, Your current balance is 5000\n"
     ]
    }
   ],
   "source": [
    "#Question4\n",
    "class Bank:\n",
    "    def __init__(self, balance, withdraw, deposit):\n",
    "        self.balance = balance\n",
    "        self.withdraw = withdraw\n",
    "        self.deposit= deposit\n",
    "    def operation1(self):\n",
    "        print(\"2000 withdrawn, Your current balance is\", (self.balance - self.withdraw))\n",
    "    def operation2(self):\n",
    "        print(\"1000 deposited, Your current balance is\", (self.balance + self.deposit))\n",
    "my_balance = Bank(4000, 2000, 1000) \n",
    "my_balance.operation1()\n",
    "my_balance.operation2()\n",
    "\n",
    "        \n"
   ]
  },
  {
   "cell_type": "code",
   "execution_count": null,
   "id": "c5c76a93",
   "metadata": {},
   "outputs": [],
   "source": []
  }
 ],
 "metadata": {
  "kernelspec": {
   "display_name": "Python 3 (ipykernel)",
   "language": "python",
   "name": "python3"
  },
  "language_info": {
   "codemirror_mode": {
    "name": "ipython",
    "version": 3
   },
   "file_extension": ".py",
   "mimetype": "text/x-python",
   "name": "python",
   "nbconvert_exporter": "python",
   "pygments_lexer": "ipython3",
   "version": "3.9.7"
  }
 },
 "nbformat": 4,
 "nbformat_minor": 5
}
